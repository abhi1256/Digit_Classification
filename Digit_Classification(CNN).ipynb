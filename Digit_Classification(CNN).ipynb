{
 "cells": [
  {
   "cell_type": "code",
   "execution_count": 1,
   "id": "4e468167",
   "metadata": {},
   "outputs": [
    {
     "data": {
      "image/png": "[encoded data removed]",
      "text/plain": [
       "<Figure size 720x720 with 9 Axes>"
      ]
     },
     "metadata": {
      "needs_background": "light"
     },
     "output_type": "display_data"
    }
   ],
   "source": [
    "import tensorflow as tf\n",
    "(x_train,y_train),(x_test,y_test)=tf.keras.datasets.mnist.load_data()\n",
    "#Imported Dataset from Mnist Database.\n",
    "import matplotlib.pyplot as plt\n",
    "%matplotlib inline\n",
    "fig,axis=plt.subplots(nrows=3,ncols=3,figsize=(10,10))\n",
    "plt.gray()\n",
    "for i,ax in enumerate(axis.flat):\n",
    "    ax.imshow(x_train[i])\n",
    "    ax.axis('off')\n",
    "    ax.set_title(\"number: {}\".format(y_train[i]))\n",
    "#Created a Subplot showing the 1st 10 dataset images."
   ]
  },
  {
   "cell_type": "code",
   "execution_count": 2,
   "id": "332e7adc",
   "metadata": {},
   "outputs": [
    {
     "name": "stdout",
     "output_type": "stream",
     "text": [
      "1875/1875 [==============================] - 33s 17ms/step - loss: 0.1387 - accuracy: 0.9576\n",
      "313/313 [==============================] - 2s 5ms/step - loss: 0.0475 - accuracy: 0.9844\n"
     ]
    },
    {
     "data": {
      "text/plain": [
       "[0.04745221510529518, 0.9843999743461609]"
      ]
     },
     "execution_count": 2,
     "metadata": {},
     "output_type": "execute_result"
    }
   ],
   "source": [
    "x_train=x_train.reshape(x_train.shape[0],x_train.shape[1],x_train.shape[2],1)\n",
    "x_test=x_test.reshape(x_test.shape[0],x_test.shape[1],x_test.shape[2],1)\n",
    "x_train=x_train.astype(\"float32\")\n",
    "x_test=x_test.astype(\"float32\")\n",
    "input_shape=[x_train.shape[1],x_train.shape[2],1]\n",
    "x_train/=255\n",
    "x_test/=255\n",
    "# Normalized the above X_Train,X_Test by Dividing them by 255(since pixels max. value is 255) to change the range to 0 to 1\n",
    "cnn=tf.keras.models.Sequential()\n",
    "# Created a Sequential Model.\n",
    "from tensorflow.keras.layers import Conv2D,MaxPooling2D,Dense,Dropout,Flatten\n",
    "cnn.add(Conv2D(filters=32,kernel_size=3,activation='relu',input_shape=input_shape))\n",
    "# Added a Convulational Layer.\n",
    "cnn.add(MaxPooling2D(pool_size=2,strides=1))\n",
    "# Added a Pooling Layer.\n",
    "#cnn.add(Conv2D(filters=32,kernel_size=3,activation='relu',input_shape=input_shape))     these layers can be added/removed \n",
    "#cnn.add(MaxPooling2D(pool_size=2,strides=1))                                            98.6% accuracy if added\n",
    "cnn.add(Flatten())\n",
    "# Added a Flattened layer of the above 2 layers.\n",
    "cnn.add(Dense(units=128,activation='relu'))\n",
    "# Added a Dense Neural Network.\n",
    "cnn.add(Dropout(rate=0.2))\n",
    "# Added a Dropout Layer to reduce Overfitting.\n",
    "cnn.add(Dense(units=10,activation='softmax'))\n",
    "# Added a final Output Layer to classify the images as numbers.\n",
    "cnn.compile(optimizer='adam',loss='sparse_categorical_crossentropy',metrics=['accuracy'])\n",
    "# Defining the optimizer,loss and metrics function using compile.\n",
    "cnn.fit(x=x_train,y=y_train,epochs=1)\n",
    "# Fitting the model to x_train,y_train sets.\n",
    "cnn.evaluate(x_test,y_test)\n",
    "# Evaluating model for new data sets."
   ]
  }
 ],
 "metadata": {
  "kernelspec": {
   "display_name": "Python 3",
   "language": "python",
   "name": "python3"
  },
  "language_info": {
   "codemirror_mode": {
    "name": "ipython",
    "version": 3
   },
   "file_extension": ".py",
   "mimetype": "text/x-python",
   "name": "python",
   "nbconvert_exporter": "python",
   "pygments_lexer": "ipython3",
   "version": "3.8.10"
  }
 },
 "nbformat": 4,
 "nbformat_minor": 5
}
